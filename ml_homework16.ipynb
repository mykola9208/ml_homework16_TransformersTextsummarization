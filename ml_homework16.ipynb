{
 "cells": [
  {
   "attachments": {},
   "cell_type": "markdown",
   "metadata": {},
   "source": [
    "Написать систему для генерации аннотаций, используя HuggingFace Transformers (Взять одну из готовых моделей). Если есть желание, можно потренировать модель, но это не основное, а как момент саморазвития"
   ]
  },
  {
   "cell_type": "code",
   "execution_count": 15,
   "metadata": {},
   "outputs": [],
   "source": [
    "import torch\n",
    "from transformers import PegasusForConditionalGeneration, PegasusTokenizer\n"
   ]
  },
  {
   "cell_type": "code",
   "execution_count": 16,
   "metadata": {},
   "outputs": [],
   "source": [
    "model_name = 'tuner007/pegasus_summarizer'\n",
    "torch_device = 'cuda' if torch.cuda.is_available() else 'cpu'\n",
    "tokenizer = PegasusTokenizer.from_pretrained(model_name)\n",
    "model = PegasusForConditionalGeneration.from_pretrained(model_name).to(torch_device)\n",
    "\n",
    "def get_response(input_text):\n",
    "  batch = tokenizer([input_text],truncation=True,padding='longest',max_length=1024, return_tensors=\"pt\").to(torch_device)\n",
    "  gen_out = model.generate(**batch,max_length=125,num_beams=5, num_return_sequences=1, temperature=1.5)\n",
    "  output_text = tokenizer.batch_decode(gen_out, skip_special_tokens=True)\n",
    "  return output_text"
   ]
  },
  {
   "attachments": {},
   "cell_type": "markdown",
   "metadata": {},
   "source": [
    "context = \"\"\"\" India wicket-keeper batsman Rishabh Pant has said someone from the crowd threw a ball on pacer Mohammed Siraj while he was fielding in the ongoing third Test against England on Wednesday. Pant revealed the incident made India skipper Virat Kohli \"upset\". \"I think, somebody threw a ball inside, at Siraj, so he [Kohli] was upset,\" said Pant in a virtual press conference after the close of the first day's play.\"You can say whatever you want to chant, but don't throw things at the fielders and all those things. It is not good for cricket, I guess,\" he added.In the third session of the opening day of the third Test, a section of spectators seemed to have asked Siraj the score of the match to tease the pacer. The India pacer however came with a brilliant reply as he gestured 1-0 (India leading the Test series) towards the crowd.Earlier this month, during the second Test match, there was some bad crowd behaviour on a show as some unruly fans threw champagne corks at India batsman KL Rahul.Kohli also intervened and he was seen gesturing towards the opening batsman to know more about the incident. An over later, the TV visuals showed that many champagne corks were thrown inside the playing field, and the Indian players were visibly left frustrated.Coming back to the game, after bundling out India for 78, openers Rory Burns and Haseeb Hameed ensured that England took the honours on the opening day of the ongoing third Test.At stumps, England's score reads 120/0 and the hosts have extended their lead to 42 runs. For the Three Lions, Burns (52*) and Hameed (60*) are currently unbeaten at the crease.Talking about the pitch on opening day, Pant said, \"They took the heavy roller, the wicket was much more settled down, and they batted nicely also,\" he said. \"But when we batted, the wicket was slightly soft, and they bowled in good areas, but we could have applied [ourselves] much better.\"Both England batsmen managed to see off the final session and the hosts concluded the opening day with all ten wickets intact, extending the lead to 42.(ANI) \"\"\""
   ]
  },
  {
   "cell_type": "code",
   "execution_count": 17,
   "metadata": {},
   "outputs": [],
   "source": [
    "context = \"\"\"\" India wicket-keeper batsman Rishabh Pant has said someone from the crowd threw a ball on pacer Mohammed Siraj while he was fielding in the ongoing third Test against England on Wednesday. Pant revealed the incident made India skipper Virat Kohli \"upset\". \"I think, somebody threw a ball inside, at Siraj, so he [Kohli] was upset,\" said Pant in a virtual press conference after the close of the first day's play.\"You can say whatever you want to chant, but don't throw things at the fielders and all those things. It is not good for cricket, I guess,\" he added.In the third session of the opening day of the third Test, a section of spectators seemed to have asked Siraj the score of the match to tease the pacer. The India pacer however came with a brilliant reply as he gestured 1-0 (India leading the Test series) towards the crowd.Earlier this month, during the second Test match, there was some bad crowd behaviour on a show as some unruly fans threw champagne corks at India batsman KL Rahul.Kohli also intervened and he was seen gesturing towards the opening batsman to know more about the incident. An over later, the TV visuals showed that many champagne corks were thrown inside the playing field, and the Indian players were visibly left frustrated.Coming back to the game, after bundling out India for 78, openers Rory Burns and Haseeb Hameed ensured that England took the honours on the opening day of the ongoing third Test.At stumps, England's score reads 120/0 and the hosts have extended their lead to 42 runs. For the Three Lions, Burns (52*) and Hameed (60*) are currently unbeaten at the crease.Talking about the pitch on opening day, Pant said, \"They took the heavy roller, the wicket was much more settled down, and they batted nicely also,\" he said. \"But when we batted, the wicket was slightly soft, and they bowled in good areas, but we could have applied [ourselves] much better.\"Both England batsmen managed to see off the final session and the hosts concluded the opening day with all ten wickets intact, extending the lead to 42.(ANI) \"\"\""
   ]
  },
  {
   "cell_type": "code",
   "execution_count": 18,
   "metadata": {},
   "outputs": [
    {
     "data": {
      "text/plain": [
       "['Team India wicketkeeper-batsman Rishabh Pant has said that someone from the crowd threw a ball on pacer Mohammed Siraj while he was fielding in the ongoing third Test against England on Wednesday. \"You can say whatever you want to chant, but don\\'t throw things at the fielders and all those things. It\\'s not good for cricket, I guess,\" Pant added.']"
      ]
     },
     "execution_count": 18,
     "metadata": {},
     "output_type": "execute_result"
    }
   ],
   "source": [
    "get_response(context)"
   ]
  },
  {
   "attachments": {},
   "cell_type": "markdown",
   "metadata": {},
   "source": [
    "context = \"Hong Kong/London (CNN) — HSBC has scooped up the UK arm of failed Silicon Valley Bank, securing the deposits of thousands of British tech firms that hold money at the lender.Had a buyer not been found, SVB UK would have been placed into insolvency by the Bank of England following the stunning collapse of its parent in the United States. Insolvency would have left customers with only deposits worth up to £85,000 ($100,000) — or £170,000 ($200,000) for joint accounts — guaranteed. In a statement, the central bank said it “can confirm that all depositors’ money with SVB UK is safe and secure as a result of this transaction. HSBC, Europe's biggest bank, announced the £1 ($1.2) deal early Monday morning, saying it would be effective “immediately.” The acquisition should “end the nightmare thousands of tech firms had been experiencing over the past few days,” Susannah Streeter, head of money and markets at investing platform Hargreaves Lansdown, said in a statement. SVB UK is a major bank partner for Britain’s tech sector, and the failure of its parent sent tech executives scrambling to work out how to get their cash out to pay staff and cover operating expenses.\""
   ]
  },
  {
   "cell_type": "code",
   "execution_count": 19,
   "metadata": {},
   "outputs": [],
   "source": [
    "context = \"Hong Kong/London (CNN) — HSBC has scooped up the UK arm of failed Silicon Valley Bank, securing the deposits of thousands of British tech firms that hold money at the lender.Had a buyer not been found, SVB UK would have been placed into insolvency by the Bank of England following the stunning collapse of its parent in the United States. Insolvency would have left customers with only deposits worth up to £85,000 ($100,000) — or £170,000 ($200,000) for joint accounts — guaranteed. In a statement, the central bank said it “can confirm that all depositors’ money with SVB UK is safe and secure as a result of this transaction. HSBC, Europe's biggest bank, announced the £1 ($1.2) deal early Monday morning, saying it would be effective “immediately.” The acquisition should “end the nightmare thousands of tech firms had been experiencing over the past few days,” Susannah Streeter, head of money and markets at investing platform Hargreaves Lansdown, said in a statement. SVB UK is a major bank partner for Britain's tech sector, and the failure of its parent sent tech executives scrambling to work out how to get their cash out to pay staff and cover operating expenses.\""
   ]
  },
  {
   "cell_type": "code",
   "execution_count": 20,
   "metadata": {},
   "outputs": [
    {
     "data": {
      "text/plain": [
       "['HSBC has acquired the UK arm of failed Silicon Valley Bank (SVB) for £1 ($1.2). The Bank of England said it \"can confirm that all depositors\\' money with SVB UK is safe and secure as a result of this transaction\". SVB UK was placed into insolvency by the Bank of England following the collapse of its parent in the US.']"
      ]
     },
     "execution_count": 20,
     "metadata": {},
     "output_type": "execute_result"
    }
   ],
   "source": [
    "get_response(context)"
   ]
  },
  {
   "attachments": {},
   "cell_type": "markdown",
   "metadata": {},
   "source": [
    "модель работает, по необходимости можно менять длину аннотации, так как при довольно большой статье и очень короткой аннотации модель справляется хуже. работает только на английском языке"
   ]
  }
 ],
 "metadata": {
  "kernelspec": {
   "display_name": "Python 3",
   "language": "python",
   "name": "python3"
  },
  "language_info": {
   "codemirror_mode": {
    "name": "ipython",
    "version": 3
   },
   "file_extension": ".py",
   "mimetype": "text/x-python",
   "name": "python",
   "nbconvert_exporter": "python",
   "pygments_lexer": "ipython3",
   "version": "3.10.8"
  },
  "orig_nbformat": 4
 },
 "nbformat": 4,
 "nbformat_minor": 2
}
